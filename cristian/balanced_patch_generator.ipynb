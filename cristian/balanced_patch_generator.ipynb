{
 "cells": [
  {
   "cell_type": "code",
   "execution_count": 1,
   "metadata": {},
   "outputs": [],
   "source": [
    "from utils.readers import VtkReader\n",
    "from utils.balanced_patch_generator import BalancedPatchGenerator\n",
    "import os\n",
    "import numpy as np\n",
    "import torch\n",
    "from torch.utils.data import Dataset"
   ]
  },
  {
   "cell_type": "code",
   "execution_count": 2,
   "metadata": {},
   "outputs": [],
   "source": [
    "main_directory = os.path.dirname(os.getcwd())\n",
    "general_path =  os.path.join(main_directory, 'patients_data', '{}', 'train')\n",
    "images_path = general_path.format('MRI_volumes', 'MRI')\n",
    "masks_path = general_path.format('masks', 'mask')"
   ]
  },
  {
   "cell_type": "code",
   "execution_count": 3,
   "metadata": {},
   "outputs": [],
   "source": [
    "ddd = BalancedPatchGenerator(images_path, \n",
    "                             masks_path, \n",
    "                             (50,50, 6), \n",
    "                             positive_prob = 0.7,\n",
    "                             shuffle_images=True,\n",
    "                             is_test=True)"
   ]
  },
  {
   "cell_type": "code",
   "execution_count": null,
   "metadata": {},
   "outputs": [],
   "source": [
    "len(ddd)"
   ]
  },
  {
   "cell_type": "code",
   "execution_count": null,
   "metadata": {},
   "outputs": [],
   "source": [
    "# Make sure that we get different patches form the same image\n",
    "for i in range(20):\n",
    "    value, im, ms = ddd[2]\n",
    "    print(\"Value for trial\",i+1,\"is\",value,\"and coverage is\",torch.sum(ms == value).item()/np.prod(ms.shape))"
   ]
  }
 ],
 "metadata": {
  "environment": {
   "name": "pytorch-gpu.1-4.m56",
   "type": "gcloud",
   "uri": "gcr.io/deeplearning-platform-release/pytorch-gpu.1-4:m56"
  },
  "kernelspec": {
   "display_name": "Python 3",
   "language": "python",
   "name": "python3"
  },
  "language_info": {
   "codemirror_mode": {
    "name": "ipython",
    "version": 3
   },
   "file_extension": ".py",
   "mimetype": "text/x-python",
   "name": "python",
   "nbconvert_exporter": "python",
   "pygments_lexer": "ipython3",
   "version": "3.7.8"
  }
 },
 "nbformat": 4,
 "nbformat_minor": 4
}
