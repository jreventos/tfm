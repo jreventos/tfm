{
 "cells": [
  {
   "cell_type": "code",
   "execution_count": 1,
   "metadata": {},
   "outputs": [],
   "source": [
    "from utils.readers import VtkReader\n",
    "from utils.balanced_patch_generator import BalancedPatchGenerator\n",
    "import os\n",
    "import numpy as np\n",
    "import functools\n",
    "import collections\n",
    "import re\n",
    "import torch\n",
    "from torch.utils.data import Dataset\n",
    "import random"
   ]
  },
  {
   "cell_type": "code",
   "execution_count": 2,
   "metadata": {},
   "outputs": [
    {
     "name": "stdout",
     "output_type": "stream",
     "text": [
      "/home/jupyter/tfm/patients_data/MRI_volumes/train\n",
      "/home/jupyter/tfm/patients_data/masks/train\n"
     ]
    }
   ],
   "source": [
    "main_directory = os.path.dirname(os.getcwd())\n",
    "general_path =  os.path.join(main_directory, 'patients_data', '{}', 'train')\n",
    "images_path = general_path.format('MRI_volumes', 'MRI')\n",
    "masks_path = general_path.format('masks', 'mask')\n",
    "print(images_path)\n",
    "print(masks_path)"
   ]
  },
  {
   "cell_type": "code",
   "execution_count": 3,
   "metadata": {},
   "outputs": [],
   "source": [
    "ddd = BalancedPatchGenerator(images_path, \n",
    "                             masks_path, \n",
    "                             (50,50, 6), \n",
    "                             positive_prob = 0.7,\n",
    "                             shuffle_images=True)"
   ]
  },
  {
   "cell_type": "code",
   "execution_count": 4,
   "metadata": {},
   "outputs": [
    {
     "data": {
      "text/plain": [
       "25116822"
      ]
     },
     "execution_count": 4,
     "metadata": {},
     "output_type": "execute_result"
    }
   ],
   "source": [
    "len(ddd)"
   ]
  },
  {
   "cell_type": "code",
   "execution_count": 5,
   "metadata": {},
   "outputs": [
    {
     "name": "stdout",
     "output_type": "stream",
     "text": [
      "1\n"
     ]
    }
   ],
   "source": [
    "im, ms = ddd[2]"
   ]
  },
  {
   "cell_type": "code",
   "execution_count": 6,
   "metadata": {},
   "outputs": [
    {
     "name": "stdout",
     "output_type": "stream",
     "text": [
      "(1, 50, 50, 6)\n",
      "5181\n",
      "15000\n",
      "0.3454\n"
     ]
    }
   ],
   "source": [
    "val = 1\n",
    "print(ms.shape)\n",
    "print(np.sum(ms == val))\n",
    "print(np.prod(ms.shape))\n",
    "print(np.sum(ms == val)/np.prod(ms.shape))"
   ]
  }
 ],
 "metadata": {
  "environment": {
   "name": "pytorch-gpu.1-4.m56",
   "type": "gcloud",
   "uri": "gcr.io/deeplearning-platform-release/pytorch-gpu.1-4:m56"
  },
  "kernelspec": {
   "display_name": "Python 3",
   "language": "python",
   "name": "python3"
  },
  "language_info": {
   "codemirror_mode": {
    "name": "ipython",
    "version": 3
   },
   "file_extension": ".py",
   "mimetype": "text/x-python",
   "name": "python",
   "nbconvert_exporter": "python",
   "pygments_lexer": "ipython3",
   "version": "3.7.8"
  }
 },
 "nbformat": 4,
 "nbformat_minor": 4
}
