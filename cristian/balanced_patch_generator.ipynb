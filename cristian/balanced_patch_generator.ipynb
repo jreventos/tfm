{
 "cells": [
  {
   "cell_type": "code",
   "execution_count": 1,
   "metadata": {},
   "outputs": [],
   "source": [
    "from utils.readers import VtkReader\n",
    "from utils.balanced_patch_generator import BalancedPatchGenerator\n",
    "import os\n",
    "import numpy as np\n",
    "import torch\n",
    "from torch.utils.data import Dataset"
   ]
  },
  {
   "cell_type": "code",
   "execution_count": 2,
   "metadata": {},
   "outputs": [],
   "source": [
    "main_directory = os.path.dirname(os.getcwd())\n",
    "general_path =  os.path.join(main_directory, 'patients_data', '{}', 'train')\n",
    "images_path = general_path.format('MRI_volumes', 'MRI')\n",
    "masks_path = general_path.format('masks', 'mask')"
   ]
  },
  {
   "cell_type": "code",
   "execution_count": 3,
   "metadata": {},
   "outputs": [],
   "source": [
    "ddd = BalancedPatchGenerator(images_path, \n",
    "                             masks_path, \n",
    "                             (50,50, 6), \n",
    "                             positive_prob = 0.5,\n",
    "                             shuffle_images=True,\n",
    "                             is_test=True)"
   ]
  },
  {
   "cell_type": "code",
   "execution_count": 4,
   "metadata": {},
   "outputs": [
    {
     "name": "stdout",
     "output_type": "stream",
     "text": [
      "Patient choosen is 2\n",
      "Value for trial 1 is 0 and coverage is 0.9963048502604167\n",
      "Patient choosen is 2\n",
      "Value for trial 2 is 1 and coverage is 0.3297333333333333\n",
      "Patient choosen is 2\n",
      "Value for trial 3 is 0 and coverage is 0.9963048502604167\n",
      "Patient choosen is 2\n",
      "Value for trial 4 is 1 and coverage is 0.285\n",
      "Patient choosen is 2\n",
      "Value for trial 5 is 1 and coverage is 0.37346666666666667\n",
      "Patient choosen is 2\n",
      "Value for trial 6 is 0 and coverage is 0.9963048502604167\n",
      "Patient choosen is 2\n",
      "Value for trial 7 is 0 and coverage is 0.9963048502604167\n",
      "Patient choosen is 2\n",
      "Value for trial 8 is 1 and coverage is 0.4003333333333333\n",
      "Patient choosen is 2\n",
      "Value for trial 9 is 0 and coverage is 0.9963048502604167\n",
      "Patient choosen is 2\n",
      "Value for trial 10 is 0 and coverage is 0.8126\n"
     ]
    }
   ],
   "source": [
    "# Make sure that we get different patches form the same image\n",
    "for i in range(10):\n",
    "    value, im, ms = ddd[2]\n",
    "    print(\"Value for trial\",i+1,\"is\",value,\"and coverage is\",torch.sum(ms == value).item()/np.prod(ms.shape))"
   ]
  },
  {
   "cell_type": "code",
   "execution_count": 6,
   "metadata": {},
   "outputs": [
    {
     "name": "stdout",
     "output_type": "stream",
     "text": [
      "(320, 320, 60)\n",
      "18475\n"
     ]
    }
   ],
   "source": [
    "patient_id = 10\n",
    "patient_mask_path = os.path.join(masks_path, 'mask_{}.vtk'.format(patient_id))\n",
    "mask = VtkReader(patient_mask_path)\n",
    "print(mask.shape)\n",
    "print(np.sum(mask==1))"
   ]
  }
 ],
 "metadata": {
  "environment": {
   "name": "pytorch-gpu.1-4.m56",
   "type": "gcloud",
   "uri": "gcr.io/deeplearning-platform-release/pytorch-gpu.1-4:m56"
  },
  "kernelspec": {
   "display_name": "Python 3",
   "language": "python",
   "name": "python3"
  },
  "language_info": {
   "codemirror_mode": {
    "name": "ipython",
    "version": 3
   },
   "file_extension": ".py",
   "mimetype": "text/x-python",
   "name": "python",
   "nbconvert_exporter": "python",
   "pygments_lexer": "ipython3",
   "version": "3.7.8"
  }
 },
 "nbformat": 4,
 "nbformat_minor": 4
}
