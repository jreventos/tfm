{
 "cells": [
  {
   "cell_type": "code",
   "execution_count": 1,
   "metadata": {},
   "outputs": [],
   "source": [
    "from torch.utils.data import DataLoader\n",
    "from utils.readers import VtkReader\n",
    "from utils.patch_generator import GeneratePatches\n",
    "import os\n",
    "import numpy as np\n",
    "import torch"
   ]
  },
  {
   "cell_type": "code",
   "execution_count": 2,
   "metadata": {},
   "outputs": [
    {
     "name": "stdout",
     "output_type": "stream",
     "text": [
      "/home/jupyter/tfm/patients_data/MRI_volumes/train\n",
      "/home/jupyter/tfm/patients_data/masks/train\n"
     ]
    }
   ],
   "source": [
    "main_directory = os.path.dirname(os.getcwd())\n",
    "general_path =  os.path.join(main_directory, 'patients_data', '{}', 'train')\n",
    "images_path = general_path.format('MRI_volumes', 'MRI')\n",
    "masks_path = general_path.format('masks', 'mask')\n",
    "print(images_path)\n",
    "print(masks_path)"
   ]
  },
  {
   "cell_type": "code",
   "execution_count": 3,
   "metadata": {},
   "outputs": [
    {
     "name": "stdout",
     "output_type": "stream",
     "text": [
      "/home/jupyter/tfm/patients_data/MRI_volumes/train/MRI_8.vtk\n",
      "/home/jupyter/tfm/patients_data/masks/train/mask_8.vtk\n"
     ]
    }
   ],
   "source": [
    "patient_id = 8\n",
    "patient_image_path = os.path.join(images_path, 'MRI_{}.vtk'.format(patient_id))\n",
    "patient_mask_path = os.path.join(masks_path, 'mask_{}.vtk'.format(patient_id))\n",
    "print(patient_image_path)\n",
    "print(patient_mask_path)"
   ]
  },
  {
   "cell_type": "code",
   "execution_count": 4,
   "metadata": {},
   "outputs": [
    {
     "name": "stdout",
     "output_type": "stream",
     "text": [
      "(320, 320, 60)\n",
      "(320, 320, 60)\n"
     ]
    }
   ],
   "source": [
    "image = VtkReader(patient_image_path)\n",
    "mask = VtkReader(patient_mask_path)\n",
    "print(image.shape)\n",
    "print(image.shape)"
   ]
  },
  {
   "cell_type": "code",
   "execution_count": 5,
   "metadata": {},
   "outputs": [],
   "source": [
    "ddd = GeneratePatches(images_path, \n",
    "                      masks_path, \n",
    "                      (16,16, 6), \n",
    "                      shuffle_images=True, \n",
    "                      allow_overlap=True)"
   ]
  },
  {
   "cell_type": "code",
   "execution_count": 6,
   "metadata": {},
   "outputs": [
    {
     "name": "stdout",
     "output_type": "stream",
     "text": [
      "patient_info(patient_id=8, image_location='/home/jupyter/tfm/patients_data/MRI_volumes/train/MRI_8.vtk', mask_location='/home/jupyter/tfm/patients_data/masks/train/mask_8.vtk', shape=(320, 320, 60), num_patches=4000)\n",
      "patient_info(patient_id=7, image_location='/home/jupyter/tfm/patients_data/MRI_volumes/train/MRI_7.vtk', mask_location='/home/jupyter/tfm/patients_data/masks/train/mask_7.vtk', shape=(320, 320, 64), num_patches=4400)\n",
      "patient_info(patient_id=2, image_location='/home/jupyter/tfm/patients_data/MRI_volumes/train/MRI_2.vtk', mask_location='/home/jupyter/tfm/patients_data/masks/train/mask_2.vtk', shape=(320, 320, 60), num_patches=4000)\n",
      "patient_info(patient_id=10, image_location='/home/jupyter/tfm/patients_data/MRI_volumes/train/MRI_10.vtk', mask_location='/home/jupyter/tfm/patients_data/masks/train/mask_10.vtk', shape=(320, 320, 60), num_patches=4000)\n",
      "patient_info(patient_id=4, image_location='/home/jupyter/tfm/patients_data/MRI_volumes/train/MRI_4.vtk', mask_location='/home/jupyter/tfm/patients_data/masks/train/mask_4.vtk', shape=(320, 320, 60), num_patches=4000)\n",
      "patient_info(patient_id=6, image_location='/home/jupyter/tfm/patients_data/MRI_volumes/train/MRI_6.vtk', mask_location='/home/jupyter/tfm/patients_data/masks/train/mask_6.vtk', shape=(320, 320, 60), num_patches=4000)\n"
     ]
    }
   ],
   "source": [
    "for p in ddd.patients_information:\n",
    "    print(p)"
   ]
  },
  {
   "cell_type": "code",
   "execution_count": 9,
   "metadata": {},
   "outputs": [
    {
     "data": {
      "text/plain": [
       "torch.Size([1, 16, 16, 6])"
      ]
     },
     "execution_count": 9,
     "metadata": {},
     "output_type": "execute_result"
    }
   ],
   "source": [
    "ddd[4000][0].shape"
   ]
  }
 ],
 "metadata": {
  "environment": {
   "name": "pytorch-gpu.1-4.m56",
   "type": "gcloud",
   "uri": "gcr.io/deeplearning-platform-release/pytorch-gpu.1-4:m56"
  },
  "kernelspec": {
   "display_name": "Python 3",
   "language": "python",
   "name": "python3"
  },
  "language_info": {
   "codemirror_mode": {
    "name": "ipython",
    "version": 3
   },
   "file_extension": ".py",
   "mimetype": "text/x-python",
   "name": "python",
   "nbconvert_exporter": "python",
   "pygments_lexer": "ipython3",
   "version": "3.7.8"
  }
 },
 "nbformat": 4,
 "nbformat_minor": 4
}
