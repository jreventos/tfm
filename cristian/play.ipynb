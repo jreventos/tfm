{
 "cells": [
  {
   "cell_type": "code",
   "execution_count": 3,
   "metadata": {},
   "outputs": [],
   "source": [
    "from torch.utils.data import Dataset, DataLoader\n",
    "from utils.readers import VtkReader\n",
    "import os\n",
    "import numpy as np"
   ]
  },
  {
   "cell_type": "code",
   "execution_count": 4,
   "metadata": {},
   "outputs": [
    {
     "name": "stdout",
     "output_type": "stream",
     "text": [
      "/home/jupyter/tfm/patients_data/MRI_volumes/train\n",
      "/home/jupyter/tfm/patients_data/masks/train\n"
     ]
    }
   ],
   "source": [
    "main_directory = os.path.dirname(os.getcwd())\n",
    "general_path =  os.path.join(main_directory, 'patients_data', '{}', 'train')\n",
    "images_path = general_path.format('MRI_volumes', 'MRI')\n",
    "masks_path = general_path.format('masks', 'mask')\n",
    "print(images_path)\n",
    "print(masks_path)"
   ]
  },
  {
   "cell_type": "code",
   "execution_count": 6,
   "metadata": {},
   "outputs": [
    {
     "name": "stdout",
     "output_type": "stream",
     "text": [
      "/home/jupyter/tfm/patients_data/MRI_volumes/train/MRI_8.vtk\n",
      "/home/jupyter/tfm/patients_data/masks/train/mask_8.vtk\n"
     ]
    }
   ],
   "source": [
    "patient_id = 8\n",
    "patient_image_path = os.path.join(images_path, 'MRI_{}.vtk'.format(patient_id))\n",
    "patient_mask_path = os.path.join(masks_path, 'mask_{}.vtk'.format(patient_id))\n",
    "print(patient_image_path)\n",
    "print(patient_mask_path)"
   ]
  },
  {
   "cell_type": "code",
   "execution_count": 7,
   "metadata": {},
   "outputs": [
    {
     "name": "stdout",
     "output_type": "stream",
     "text": [
      "(320, 320, 60)\n",
      "(320, 320, 60)\n"
     ]
    }
   ],
   "source": [
    "image = VtkReader(patient_image_path)\n",
    "mask = VtkReader(patient_mask_path)\n",
    "print(image.shape)\n",
    "print(image.shape)"
   ]
  },
  {
   "cell_type": "code",
   "execution_count": 43,
   "metadata": {},
   "outputs": [
    {
     "ename": "SyntaxError",
     "evalue": "invalid syntax (<ipython-input-43-b386a554e117>, line 29)",
     "output_type": "error",
     "traceback": [
      "\u001b[0;36m  File \u001b[0;32m\"<ipython-input-43-b386a554e117>\"\u001b[0;36m, line \u001b[0;32m29\u001b[0m\n\u001b[0;31m    print(\"image_id:, \"image_id, \"patch_id: \", patch_id)\u001b[0m\n\u001b[0m                              ^\u001b[0m\n\u001b[0;31mSyntaxError\u001b[0m\u001b[0;31m:\u001b[0m invalid syntax\n"
     ]
    }
   ],
   "source": [
    "class GeneratePatches(Dataset):\n",
    "    def __init__(self, images_path, masks_path, num_patches, shuffle_images = False):\n",
    "        self.images_path = images_path\n",
    "        self.masks_path = masks_path\n",
    "        self.num_patches = num_patches\n",
    "        self.shuffle_images = shuffle_images\n",
    "        \n",
    "        self.images_files = self.get_files(self.images_path)\n",
    "        self.masks_files = self.get_files(self.masks_path)\n",
    "        \n",
    "        assert len(self.images_files) == len(self.masks_files), 'Num.images is different from num. masks'\n",
    "        \n",
    "        self.patients_ids = self.get_patients_ids(self.images_files)\n",
    "        self.num_patients = len(self.patients_ids)\n",
    "    \n",
    "    @staticmethod\n",
    "    def get_patients_ids(files):\n",
    "        return [int(file.split('/')[-1].split('.')[0].split('_')[1]) for file in files]\n",
    "        \n",
    "    @staticmethod\n",
    "    def get_files(path):\n",
    "        return [os.path.join(path, file) for file in os.listdir(path) if file.split('.')[-1] == 'vtk']  \n",
    "    \n",
    "    def __len__(self):\n",
    "        return len(self.patients_ids) * self.num_patches\n",
    "    \n",
    "    def __getitem__(self, idx):\n",
    "        patch_id, image_id = divmod(idx, self.num_patients) \n",
    "        print(\"image_id:\"\", image_id, \"patch_id: \", patch_id)"
   ]
  },
  {
   "cell_type": "code",
   "execution_count": 41,
   "metadata": {},
   "outputs": [
    {
     "name": "stdout",
     "output_type": "stream",
     "text": [
      "5 7\n"
     ]
    }
   ],
   "source": [
    "ddd = GeneratePatches(images_path, masks_path, 8)\n",
    "ddd[47]"
   ]
  },
  {
   "cell_type": "code",
   "execution_count": null,
   "metadata": {},
   "outputs": [],
   "source": [
    "0 --> 0, 0\n",
    "1 --> 0, 1\n",
    "...\n",
    "7 --> 0, 7\n",
    "8 --> 1, 0"
   ]
  },
  {
   "cell_type": "code",
   "execution_count": null,
   "metadata": {},
   "outputs": [],
   "source": [
    "6 pacientes\n",
    "8 batches\n",
    "0, 1, 2, "
   ]
  }
 ],
 "metadata": {
  "environment": {
   "name": "pytorch-gpu.1-4.m56",
   "type": "gcloud",
   "uri": "gcr.io/deeplearning-platform-release/pytorch-gpu.1-4:m56"
  },
  "kernelspec": {
   "display_name": "Python 3",
   "language": "python",
   "name": "python3"
  },
  "language_info": {
   "codemirror_mode": {
    "name": "ipython",
    "version": 3
   },
   "file_extension": ".py",
   "mimetype": "text/x-python",
   "name": "python",
   "nbconvert_exporter": "python",
   "pygments_lexer": "ipython3",
   "version": "3.7.8"
  }
 },
 "nbformat": 4,
 "nbformat_minor": 4
}
