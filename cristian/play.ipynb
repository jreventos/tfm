{
 "cells": [
  {
   "cell_type": "code",
   "execution_count": 38,
   "metadata": {},
   "outputs": [],
   "source": [
    "from torch.utils.data import Dataset, DataLoader\n",
    "from utils.readers import VtkReader\n",
    "import os\n",
    "import numpy as np\n",
    "import math\n",
    "import functools\n",
    "import collections\n",
    "import re"
   ]
  },
  {
   "cell_type": "code",
   "execution_count": 2,
   "metadata": {},
   "outputs": [
    {
     "name": "stdout",
     "output_type": "stream",
     "text": [
      "/home/jupyter/tfm/patients_data/MRI_volumes/train\n",
      "/home/jupyter/tfm/patients_data/masks/train\n"
     ]
    }
   ],
   "source": [
    "main_directory = os.path.dirname(os.getcwd())\n",
    "general_path =  os.path.join(main_directory, 'patients_data', '{}', 'train')\n",
    "images_path = general_path.format('MRI_volumes', 'MRI')\n",
    "masks_path = general_path.format('masks', 'mask')\n",
    "print(images_path)\n",
    "print(masks_path)"
   ]
  },
  {
   "cell_type": "code",
   "execution_count": 3,
   "metadata": {},
   "outputs": [
    {
     "name": "stdout",
     "output_type": "stream",
     "text": [
      "/home/jupyter/tfm/patients_data/MRI_volumes/train/MRI_8.vtk\n",
      "/home/jupyter/tfm/patients_data/masks/train/mask_8.vtk\n"
     ]
    }
   ],
   "source": [
    "patient_id = 8\n",
    "patient_image_path = os.path.join(images_path, 'MRI_{}.vtk'.format(patient_id))\n",
    "patient_mask_path = os.path.join(masks_path, 'mask_{}.vtk'.format(patient_id))\n",
    "print(patient_image_path)\n",
    "print(patient_mask_path)"
   ]
  },
  {
   "cell_type": "code",
   "execution_count": 4,
   "metadata": {},
   "outputs": [
    {
     "name": "stdout",
     "output_type": "stream",
     "text": [
      "(320, 320, 60)\n",
      "(320, 320, 60)\n"
     ]
    }
   ],
   "source": [
    "image = VtkReader(patient_image_path)\n",
    "mask = VtkReader(patient_mask_path)\n",
    "print(image.shape)\n",
    "print(image.shape)"
   ]
  },
  {
   "cell_type": "code",
   "execution_count": 85,
   "metadata": {},
   "outputs": [],
   "source": [
    "class GeneratePatches(Dataset):\n",
    "    def __init__(self, images_path, masks_path, patch_shape, shuffle_images = False):\n",
    "        self.images_path = images_path\n",
    "        self.masks_path = masks_path\n",
    "        self.patch_shape = patch_shape\n",
    "        self.shuffle_images = shuffle_images\n",
    "        \n",
    "        self.images_files = self.get_files(self.images_path)\n",
    "        self.masks_files = self.get_files(self.masks_path)\n",
    "        \n",
    "        assert len(self.images_files) == len(self.masks_files), 'Num.images is different from num. masks'\n",
    "        \n",
    "        self.patients_information = self.get_patients_information()\n",
    "        self.num_patients = len(self.patients_information)\n",
    "        self.num_patches = self.calculate_num_patches()\n",
    "    \n",
    "    @staticmethod\n",
    "    def get_files(path):\n",
    "        return [os.path.join(path, file) for file in os.listdir(path) if file.split('.')[-1] == 'vtk']  \n",
    "\n",
    "    @staticmethod\n",
    "    def get_shape_image(file):\n",
    "        return VtkReader(file).shape\n",
    "        \n",
    "    def get_patients_information(self):\n",
    "        patient_info = collections.namedtuple('patient_info', 'patient_id image_location mask_location shape')\n",
    "        list_patient_info = []\n",
    "        for file in self.images_files:\n",
    "            image_path = file\n",
    "            patient_id = int(file.split('/')[-1].split('.')[0].split('_')[1])\n",
    "            pattern = re.compile('mask_{}'.format(patient_id))\n",
    "            mask_path = list(filter(pattern.search, self.masks_files))[0]\n",
    "            shape = self.get_shape_image(file)\n",
    "            list_patient_info.append(patient_info(patient_id, image_path, mask_path, shape))\n",
    "        return list_patient_info\n",
    "    \n",
    "    def calculate_num_patches(self):\n",
    "        num_patches = float('-inf')\n",
    "        for image in self.patients_information:\n",
    "            num = functools.reduce(lambda x, y: x*y, (map(lambda x, y: int(np.ceil(x/y)), image.shape, self.patch_shape)))\n",
    "            if num > num_patches:\n",
    "                num_patches = num\n",
    "        return num_patches    \n",
    "    \n",
    "    def __len__(self):\n",
    "        return self.num_patients * self.num_patches\n",
    "    \n",
    "    def __getitem__(self, idx):\n",
    "        patch_id, image_id = divmod(idx, self.num_patients) \n",
    "        print(\"image_id:\"\", image_id, \"patch_id: \", patch_id)"
   ]
  },
  {
   "cell_type": "code",
   "execution_count": 90,
   "metadata": {},
   "outputs": [
    {
     "name": "stdout",
     "output_type": "stream",
     "text": [
      "1\n",
      "[patient_info(patient_id=6, image_location='/home/jupyter/tfm/patients_data/MRI_volumes/train/MRI_6.vtk', mask_location='/home/jupyter/tfm/patients_data/masks/train/mask_6.vtk', shape=(320, 320, 60)), patient_info(patient_id=7, image_location='/home/jupyter/tfm/patients_data/MRI_volumes/train/MRI_7.vtk', mask_location='/home/jupyter/tfm/patients_data/masks/train/mask_7.vtk', shape=(320, 320, 64)), patient_info(patient_id=10, image_location='/home/jupyter/tfm/patients_data/MRI_volumes/train/MRI_10.vtk', mask_location='/home/jupyter/tfm/patients_data/masks/train/mask_10.vtk', shape=(320, 320, 60)), patient_info(patient_id=4, image_location='/home/jupyter/tfm/patients_data/MRI_volumes/train/MRI_4.vtk', mask_location='/home/jupyter/tfm/patients_data/masks/train/mask_4.vtk', shape=(320, 320, 60)), patient_info(patient_id=8, image_location='/home/jupyter/tfm/patients_data/MRI_volumes/train/MRI_8.vtk', mask_location='/home/jupyter/tfm/patients_data/masks/train/mask_8.vtk', shape=(320, 320, 60)), patient_info(patient_id=2, image_location='/home/jupyter/tfm/patients_data/MRI_volumes/train/MRI_2.vtk', mask_location='/home/jupyter/tfm/patients_data/masks/train/mask_2.vtk', shape=(320, 320, 60))]\n"
     ]
    },
    {
     "data": {
      "text/plain": [
       "6"
      ]
     },
     "execution_count": 90,
     "metadata": {},
     "output_type": "execute_result"
    }
   ],
   "source": [
    "ddd = GeneratePatches(images_path, masks_path, (320,320, 64))\n",
    "print(ddd.calculate_num_patches())\n",
    "print(ddd.get_patients_information())\n",
    "len(ddd)"
   ]
  },
  {
   "cell_type": "code",
   "execution_count": 247,
   "metadata": {},
   "outputs": [
    {
     "name": "stdout",
     "output_type": "stream",
     "text": [
      "[[[90 11 55 97 89 63 60]\n",
      "  [38 50  5 17 33 74 44]\n",
      "  [10 72 53 67 40 65 98]\n",
      "  [34  9 10 55 15 84 78]\n",
      "  [95 80 53 27 36 12 56]]\n",
      "\n",
      " [[ 1 28 27 17 54 86 55]\n",
      "  [24 21 41 31 73  5 87]\n",
      "  [35 68  4 68 52 54 56]\n",
      "  [68 52  3 87  9 87 75]\n",
      "  [36 16 68 94 23 81 51]]\n",
      "\n",
      " [[49 91 39 13 50 82 52]\n",
      "  [ 7 74 35 47 69 81 88]\n",
      "  [12 42 90  9 26 41 61]\n",
      "  [82 83 45 12 29  8 49]\n",
      "  [64 17 84 94 11  6  2]]\n",
      "\n",
      " [[92 38 40 80 80 15 47]\n",
      "  [74 59 28 53 10 32 19]\n",
      "  [66 68 46 89 11 10 37]\n",
      "  [35  4 57 74 34 62 68]\n",
      "  [52 32  7 42 17 51 74]]]\n"
     ]
    }
   ],
   "source": [
    "ee = np.random.randint(0, 100, (4, 5, 7))\n",
    "print(ee)"
   ]
  },
  {
   "cell_type": "code",
   "execution_count": 250,
   "metadata": {},
   "outputs": [
    {
     "name": "stdout",
     "output_type": "stream",
     "text": [
      "Num patches 24\n"
     ]
    },
    {
     "data": {
      "text/plain": [
       "array([[[90, 11],\n",
       "        [38, 50]],\n",
       "\n",
       "       [[ 1, 28],\n",
       "        [24, 21]]])"
      ]
     },
     "execution_count": 250,
     "metadata": {},
     "output_type": "execute_result"
    }
   ],
   "source": [
    "patch_shape = (2, 2, 2)\n",
    "num_patches = functools.reduce(lambda x, y: x*y, (map(lambda x, y: int(np.ceil(x/y)), ee.shape, patch_shape)))\n",
    "print(\"Num patches\", num_patches)\n",
    "patch_id = 0\n",
    "num_channels, num_rows, num_cols = ee.shape\n",
    "total_tensors_row = int(np.ceil(num_cols/patch_shape[2]))\n",
    "total_tensors_col = int(np.ceil(num_rows/patch_shape[1]))\n",
    "\n",
    "total_tensors_channel = total_tensors_row * total_tensors_col\n",
    "\n",
    "start_row, start_col = divmod(patch_id%total_tensors_channel, total_tensors_row) \n",
    "\n",
    "start_row = min(patch_shape[1] * start_row, ee.shape[1])\n",
    "end_row = min(start_row + patch_shape[1], ee.shape[1])\n",
    "\n",
    "start_col = min(patch_shape[2]*start_col, ee.shape[2])\n",
    "end_col = min(start_col + patch_shape[2], ee.shape[2])\n",
    "\n",
    "start_channel, _ =  divmod(patch_id, total_tensors_channel)\n",
    "start_channel = min(start_channel * patch_shape[0], ee.shape[0]) \n",
    "end_channel = min(start_channel + patch_shape[0], ee.shape[0])\n",
    "\n",
    "ee[start_channel:end_channel, start_row:end_row, start_col:end_col]"
   ]
  }
 ],
 "metadata": {
  "environment": {
   "name": "pytorch-gpu.1-4.m56",
   "type": "gcloud",
   "uri": "gcr.io/deeplearning-platform-release/pytorch-gpu.1-4:m56"
  },
  "kernelspec": {
   "display_name": "Python 3",
   "language": "python",
   "name": "python3"
  },
  "language_info": {
   "codemirror_mode": {
    "name": "ipython",
    "version": 3
   },
   "file_extension": ".py",
   "mimetype": "text/x-python",
   "name": "python",
   "nbconvert_exporter": "python",
   "pygments_lexer": "ipython3",
   "version": "3.7.8"
  }
 },
 "nbformat": 4,
 "nbformat_minor": 4
}
