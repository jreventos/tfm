{
 "cells": [
  {
   "cell_type": "code",
   "execution_count": 19,
   "metadata": {},
   "outputs": [],
   "source": [
    "from torch.utils.data import Dataset, DataLoader\n",
    "from utils.readers import VtkReader\n",
    "import os\n",
    "import numpy as np"
   ]
  },
  {
   "cell_type": "code",
   "execution_count": 48,
   "metadata": {},
   "outputs": [
    {
     "name": "stdout",
     "output_type": "stream",
     "text": [
      "/home/jupyter/tfm/patients_data/MRI_volumes/train\n",
      "/home/jupyter/tfm/patients_data/masks/train\n"
     ]
    }
   ],
   "source": [
    "main_directory = os.path.dirname(os.getcwd())\n",
    "general_path =  os.path.join(main_directory, 'patients_data', '{}', 'train')\n",
    "images_path = general_path.format('MRI_volumes', 'MRI')\n",
    "masks_path = general_path.format('masks', 'mask')\n",
    "print(images_path)\n",
    "print(masks_path)"
   ]
  },
  {
   "cell_type": "code",
   "execution_count": 56,
   "metadata": {},
   "outputs": [
    {
     "name": "stdout",
     "output_type": "stream",
     "text": [
      "/home/jupyter/tfm/patients_data/MRI_volumes/train/MRI_8.vtk\n",
      "/home/jupyter/tfm/patients_data/masks/train/mask_8.vtk\n"
     ]
    }
   ],
   "source": [
    "patient_id = 8\n",
    "patient_image_path = os.path.join(images_path, 'MRI_{}.vtk'.format(patient_id))\n",
    "patient_mask_path = os.path.join(masks_path, 'mask_{}.vtk'.format(patient_id))\n",
    "print(patient_image)\n",
    "print(patient_mask)"
   ]
  },
  {
   "cell_type": "code",
   "execution_count": 57,
   "metadata": {},
   "outputs": [
    {
     "name": "stdout",
     "output_type": "stream",
     "text": [
      "(320, 320, 60)\n",
      "(320, 320, 60)\n"
     ]
    }
   ],
   "source": [
    "image = VtkReader(patient_image_path)\n",
    "mask = VtkReader(patient_mask_path)\n",
    "print(image.shape)\n",
    "print(image.shape)"
   ]
  },
  {
   "cell_type": "code",
   "execution_count": 149,
   "metadata": {},
   "outputs": [],
   "source": [
    "class GeneratePatches(Dataset):\n",
    "    def __init__(self, images_path, masks_path, num_patches, shuffle_images = False):\n",
    "        self.images_path = images_path\n",
    "        self.masks_path = masks_path\n",
    "        self.num_patches = num_patches\n",
    "        self.shuffle_images = shuffle_images\n",
    "        \n",
    "        self.images_files = self.get_files(self.images_path)\n",
    "        self.masks_files = self.get_files(self.masks_path)\n",
    "        \n",
    "        assert len(self.images_files) == len(self.masks_files), 'Num.images is different from num. masks'\n",
    "        print(self.images_files)\n",
    "        \n",
    "        self.patients_ids = self.get_patients_ids(self.images_files)\n",
    "        print(self.patients_ids)\n",
    "    \n",
    "    @staticmethod\n",
    "    def get_patients_ids(files):\n",
    "        return [int(file.split('/')[-1].split('.')[0].split('_')[1]) for file in files]\n",
    "        \n",
    "    @staticmethod\n",
    "    def get_files(path):\n",
    "        return [os.path.join(path, file) for file in os.listdir(path) if file.split('.')[-1] == 'vtk']  \n",
    "    \n",
    "    def __len__(self):\n",
    "        return len(self.patients_ids)\n",
    "    \n",
    "    def __getitem__(self, idx):\n",
    "        "
   ]
  },
  {
   "cell_type": "code",
   "execution_count": 151,
   "metadata": {},
   "outputs": [
    {
     "name": "stdout",
     "output_type": "stream",
     "text": [
      "['/home/jupyter/tfm/patients_data/MRI_volumes/train/MRI_6.vtk', '/home/jupyter/tfm/patients_data/MRI_volumes/train/MRI_7.vtk', '/home/jupyter/tfm/patients_data/MRI_volumes/train/MRI_10.vtk', '/home/jupyter/tfm/patients_data/MRI_volumes/train/MRI_4.vtk', '/home/jupyter/tfm/patients_data/MRI_volumes/train/MRI_8.vtk', '/home/jupyter/tfm/patients_data/MRI_volumes/train/MRI_2.vtk']\n",
      "[6, 7, 10, 4, 8, 2]\n"
     ]
    },
    {
     "data": {
      "text/plain": [
       "6"
      ]
     },
     "execution_count": 151,
     "metadata": {},
     "output_type": "execute_result"
    }
   ],
   "source": [
    "ddd = GeneratePatches(images_path, masks_path, 8)\n"
   ]
  }
 ],
 "metadata": {
  "environment": {
   "name": "pytorch-gpu.1-4.m56",
   "type": "gcloud",
   "uri": "gcr.io/deeplearning-platform-release/pytorch-gpu.1-4:m56"
  },
  "kernelspec": {
   "display_name": "Python 3",
   "language": "python",
   "name": "python3"
  },
  "language_info": {
   "codemirror_mode": {
    "name": "ipython",
    "version": 3
   },
   "file_extension": ".py",
   "mimetype": "text/x-python",
   "name": "python",
   "nbconvert_exporter": "python",
   "pygments_lexer": "ipython3",
   "version": "3.7.8"
  }
 },
 "nbformat": 4,
 "nbformat_minor": 4
}
